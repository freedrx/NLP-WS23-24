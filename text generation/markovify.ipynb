{
  "cells": [
    {
      "cell_type": "markdown",
      "source": [
        "# Markovify Jupyter Notebook"
      ],
      "metadata": {
        "id": "9JYZYTggE4rn"
      }
    },
    {
      "cell_type": "markdown",
      "source": [
        "Installing markovify and mounting Google Drive"
      ],
      "metadata": {
        "id": "sK1yP1DYE9Wi"
      }
    },
    {
      "cell_type": "code",
      "source": [
        "!pip install markovify"
      ],
      "metadata": {
        "colab": {
          "base_uri": "https://localhost:8080/"
        },
        "id": "xwdUTPgJFAC6",
        "outputId": "5f13428f-bffa-4a57-f8da-11bfbe45ad64"
      },
      "execution_count": 52,
      "outputs": [
        {
          "output_type": "stream",
          "name": "stdout",
          "text": [
            "Requirement already satisfied: markovify in /usr/local/lib/python3.10/dist-packages (0.9.4)\n",
            "Requirement already satisfied: unidecode in /usr/local/lib/python3.10/dist-packages (from markovify) (1.3.8)\n"
          ]
        }
      ]
    },
    {
      "cell_type": "code",
      "source": [
        "from google.colab import drive\n",
        "drive.mount('/content/drive')"
      ],
      "metadata": {
        "colab": {
          "base_uri": "https://localhost:8080/"
        },
        "id": "k7yMhc2zJ6en",
        "outputId": "71cc9d2b-0963-4fdb-dece-3f8cd819de7c"
      },
      "execution_count": 53,
      "outputs": [
        {
          "output_type": "stream",
          "name": "stdout",
          "text": [
            "Drive already mounted at /content/drive; to attempt to forcibly remount, call drive.mount(\"/content/drive\", force_remount=True).\n"
          ]
        }
      ]
    },
    {
      "cell_type": "code",
      "source": [
        "!cd \"/content/drive/MyDrive/Semantic_Data_Processing\""
      ],
      "metadata": {
        "id": "PRbplY-gKCVM"
      },
      "execution_count": 54,
      "outputs": []
    },
    {
      "cell_type": "markdown",
      "source": [
        "## Generating sentences with a sample text"
      ],
      "metadata": {
        "id": "Evw1EDQ9FE1e"
      }
    },
    {
      "cell_type": "code",
      "execution_count": 55,
      "metadata": {
        "colab": {
          "base_uri": "https://localhost:8080/"
        },
        "id": "D7FLx08oEjbo",
        "outputId": "707a9b4d-a435-4da3-fc94-d702731fe014"
      },
      "outputs": [
        {
          "output_type": "stream",
          "name": "stdout",
          "text": [
            "A Markov chain text generator.\n",
            "The library allows users to train a Markov chain based on the patterns it recognizes in the provided text.\n",
            "The library allows users to train a Markov chain based on the state attained in the training data to produce coherent and contextually appropriate output.\n",
            "Markovify uses this concept to generate random, realistic sentences based on the state attained in the training data.\n",
            "Markovify is often used in natural language processing applications, including generating text that is statistically similar to the training data to produce coherent and contextually appropriate output.\n"
          ]
        }
      ],
      "source": [
        "import markovify\n",
        "\n",
        "# Sample text for training the Markov chain\n",
        "text = \"\"\"\n",
        "Markovify is a simple and powerful Markov chain text generator. A Markov chain is a stochastic model describing a sequence of possible events in which the probability of each event depends only on the state attained in the previous event. Markovify uses this concept to generate random, realistic sentences based on the patterns it recognizes in the provided text.\n",
        "The library allows users to train a Markov chain based on a given corpus of text and then use that chain to generate text that is statistically similar to the training data. This makes it a useful tool for tasks such as text generation, text synthesis, and creating simple chatbots.\n",
        "Markovify is often used in natural language processing applications, including generating text that resembles a given input text or creating randomized sentences based on a specific writing style. It's a popular choice for generating sentences that sound like they could have been written by a human, as it can capture the underlying structure and patterns in the training data to produce coherent and contextually appropriate output.\n",
        "\"\"\"\n",
        "\n",
        "# Build the Markov model\n",
        "text_model = markovify.Text(text)\n",
        "\n",
        "# Generate a few sentences\n",
        "for i in range(5):\n",
        "    print(text_model.make_sentence()) # or it is possible to use .make_short_sentence(50)\n"
      ]
    },
    {
      "cell_type": "markdown",
      "source": [
        "If the text dataset is not large, the predicted sentences are similar to each other or have value None, according to the last output."
      ],
      "metadata": {
        "id": "4i9aAGUwFTVV"
      }
    },
    {
      "cell_type": "markdown",
      "source": [
        "## Using Markovify with a Job Posting Dataset"
      ],
      "metadata": {
        "id": "Dxf1trHnFrwF"
      }
    },
    {
      "cell_type": "code",
      "execution_count": 56,
      "metadata": {
        "id": "psfvnhynEjbq"
      },
      "outputs": [],
      "source": [
        "import spacy\n",
        "import re\n",
        "import markovify\n",
        "import nltk\n",
        "import warnings\n",
        "import pandas as pd\n",
        "warnings.filterwarnings('ignore')"
      ]
    },
    {
      "cell_type": "code",
      "source": [
        "text = pd.read_csv(\"/content/drive/MyDrive/Semantic_Data_Processing/archive/job_postings.csv\")\n",
        "text"
      ],
      "metadata": {
        "colab": {
          "base_uri": "https://localhost:8080/",
          "height": 791
        },
        "id": "QkoDpR6qBwob",
        "outputId": "61e3634c-4086-48bb-866f-d4f0ce7a7692"
      },
      "execution_count": 57,
      "outputs": [
        {
          "output_type": "execute_result",
          "data": {
            "text/plain": [
              "           job_id  company_id                                  title  \\\n",
              "0        85008768         NaN               Licensed Insurance Agent   \n",
              "1       133114754  77766802.0                          Sales Manager   \n",
              "2       133196985   1089558.0                     Model Risk Auditor   \n",
              "3       381055942  96654609.0                       Business Manager   \n",
              "4       529257371   1244539.0                    NY Studio Assistant   \n",
              "...           ...         ...                                    ...   \n",
              "15881  3701373516  74718032.0                  Sanitation Technician   \n",
              "15882  3701373522     38897.0                         Unit Secretary   \n",
              "15883  3701373523     38897.0                Radiology Aide, Perdiem   \n",
              "15884  3701373524      2623.0                            MRI Manager   \n",
              "15885  3701373527     84659.0  Area Director of Business Development   \n",
              "\n",
              "                                             description  max_salary  \\\n",
              "0      While many industries were hurt by the last fe...     52000.0   \n",
              "1      Are you a dynamic and creative marketing profe...         NaN   \n",
              "2      Join Us as a Model Risk Auditor – Showcase You...         NaN   \n",
              "3      Business ManagerFirst Baptist Church ForneyFor...         NaN   \n",
              "4      YOU COULD BE ONE OF THE MAGIC MAKERS\\nKen Fulk...         NaN   \n",
              "...                                                  ...         ...   \n",
              "15881  Location:\\n\\nWest Columbia, SC, US, 29172\\n\\n2...         NaN   \n",
              "15882  Job Title: Unit Secretary\\nDepartment: Nursing...         NaN   \n",
              "15883  Job Title: Radiology Aide, Perdiem\\nDepartment...         NaN   \n",
              "15884  Grade 105\\nJob Type: Officer of Administration...    135000.0   \n",
              "15885  Nexion Health Management affiliates operate 56...         NaN   \n",
              "\n",
              "       med_salary  min_salary pay_period formatted_work_type  \\\n",
              "0             NaN     45760.0     YEARLY           Full-time   \n",
              "1             NaN         NaN        NaN           Full-time   \n",
              "2             NaN         NaN        NaN            Contract   \n",
              "3             NaN         NaN        NaN           Full-time   \n",
              "4             NaN         NaN        NaN           Full-time   \n",
              "...           ...         ...        ...                 ...   \n",
              "15881         NaN         NaN        NaN           Part-time   \n",
              "15882         NaN         NaN        NaN           Full-time   \n",
              "15883         NaN         NaN        NaN           Part-time   \n",
              "15884         NaN    110000.0     YEARLY           Full-time   \n",
              "15885         NaN         NaN        NaN           Full-time   \n",
              "\n",
              "                location  ...         expiry  closed_time  \\\n",
              "0              Chico, CA  ...  1708301126000          NaN   \n",
              "1      Santa Clarita, CA  ...  1695426553000          NaN   \n",
              "2           New York, NY  ...  1695321872000          NaN   \n",
              "3             Forney, TX  ...  1695424007000          NaN   \n",
              "4           New York, NY  ...  1708419602000          NaN   \n",
              "...                  ...  ...            ...          ...   \n",
              "15881  West Columbia, SC  ...  1695336734000          NaN   \n",
              "15882        Teaneck, NJ  ...  1695336368000          NaN   \n",
              "15883        Teaneck, NJ  ...  1695336368000          NaN   \n",
              "15884       New York, NY  ...  1695336071000          NaN   \n",
              "15885      Vicksburg, MS  ...  1695335131000          NaN   \n",
              "\n",
              "       formatted_experience_level  skills_desc    listed_time  \\\n",
              "0                             NaN          NaN  1692749193000   \n",
              "1                             NaN          NaN  1692834553000   \n",
              "2                             NaN          NaN  1692729872000   \n",
              "3                             NaN          NaN  1692832007000   \n",
              "4                             NaN          NaN  1692867714000   \n",
              "...                           ...          ...            ...   \n",
              "15881                 Entry level          NaN  1692744734000   \n",
              "15882                 Entry level          NaN  1692744368000   \n",
              "15883                 Entry level          NaN  1692744368000   \n",
              "15884            Mid-Senior level          NaN  1692744071000   \n",
              "15885                         NaN          NaN  1692743131000   \n",
              "\n",
              "                   posting_domain sponsored  work_type  currency  \\\n",
              "0                             NaN         1  FULL_TIME       USD   \n",
              "1                             NaN         0  FULL_TIME       NaN   \n",
              "2                             NaN         0   CONTRACT       NaN   \n",
              "3                             NaN         0  FULL_TIME       NaN   \n",
              "4                             NaN         1  FULL_TIME       NaN   \n",
              "...                           ...       ...        ...       ...   \n",
              "15881   aspirebakeriescareers.com         0  PART_TIME       NaN   \n",
              "15882      recruiting.ultipro.com         0  FULL_TIME       NaN   \n",
              "15883      recruiting.ultipro.com         0  PART_TIME       NaN   \n",
              "15884  opportunities.columbia.edu         0  FULL_TIME       USD   \n",
              "15885                         NaN         0  FULL_TIME       NaN   \n",
              "\n",
              "      compensation_type  \n",
              "0           BASE_SALARY  \n",
              "1                   NaN  \n",
              "2                   NaN  \n",
              "3                   NaN  \n",
              "4                   NaN  \n",
              "...                 ...  \n",
              "15881               NaN  \n",
              "15882               NaN  \n",
              "15883               NaN  \n",
              "15884       BASE_SALARY  \n",
              "15885               NaN  \n",
              "\n",
              "[15886 rows x 27 columns]"
            ],
            "text/html": [
              "\n",
              "  <div id=\"df-2a808fe5-62ee-4679-acb9-cc0576cef50b\" class=\"colab-df-container\">\n",
              "    <div>\n",
              "<style scoped>\n",
              "    .dataframe tbody tr th:only-of-type {\n",
              "        vertical-align: middle;\n",
              "    }\n",
              "\n",
              "    .dataframe tbody tr th {\n",
              "        vertical-align: top;\n",
              "    }\n",
              "\n",
              "    .dataframe thead th {\n",
              "        text-align: right;\n",
              "    }\n",
              "</style>\n",
              "<table border=\"1\" class=\"dataframe\">\n",
              "  <thead>\n",
              "    <tr style=\"text-align: right;\">\n",
              "      <th></th>\n",
              "      <th>job_id</th>\n",
              "      <th>company_id</th>\n",
              "      <th>title</th>\n",
              "      <th>description</th>\n",
              "      <th>max_salary</th>\n",
              "      <th>med_salary</th>\n",
              "      <th>min_salary</th>\n",
              "      <th>pay_period</th>\n",
              "      <th>formatted_work_type</th>\n",
              "      <th>location</th>\n",
              "      <th>...</th>\n",
              "      <th>expiry</th>\n",
              "      <th>closed_time</th>\n",
              "      <th>formatted_experience_level</th>\n",
              "      <th>skills_desc</th>\n",
              "      <th>listed_time</th>\n",
              "      <th>posting_domain</th>\n",
              "      <th>sponsored</th>\n",
              "      <th>work_type</th>\n",
              "      <th>currency</th>\n",
              "      <th>compensation_type</th>\n",
              "    </tr>\n",
              "  </thead>\n",
              "  <tbody>\n",
              "    <tr>\n",
              "      <th>0</th>\n",
              "      <td>85008768</td>\n",
              "      <td>NaN</td>\n",
              "      <td>Licensed Insurance Agent</td>\n",
              "      <td>While many industries were hurt by the last fe...</td>\n",
              "      <td>52000.0</td>\n",
              "      <td>NaN</td>\n",
              "      <td>45760.0</td>\n",
              "      <td>YEARLY</td>\n",
              "      <td>Full-time</td>\n",
              "      <td>Chico, CA</td>\n",
              "      <td>...</td>\n",
              "      <td>1708301126000</td>\n",
              "      <td>NaN</td>\n",
              "      <td>NaN</td>\n",
              "      <td>NaN</td>\n",
              "      <td>1692749193000</td>\n",
              "      <td>NaN</td>\n",
              "      <td>1</td>\n",
              "      <td>FULL_TIME</td>\n",
              "      <td>USD</td>\n",
              "      <td>BASE_SALARY</td>\n",
              "    </tr>\n",
              "    <tr>\n",
              "      <th>1</th>\n",
              "      <td>133114754</td>\n",
              "      <td>77766802.0</td>\n",
              "      <td>Sales Manager</td>\n",
              "      <td>Are you a dynamic and creative marketing profe...</td>\n",
              "      <td>NaN</td>\n",
              "      <td>NaN</td>\n",
              "      <td>NaN</td>\n",
              "      <td>NaN</td>\n",
              "      <td>Full-time</td>\n",
              "      <td>Santa Clarita, CA</td>\n",
              "      <td>...</td>\n",
              "      <td>1695426553000</td>\n",
              "      <td>NaN</td>\n",
              "      <td>NaN</td>\n",
              "      <td>NaN</td>\n",
              "      <td>1692834553000</td>\n",
              "      <td>NaN</td>\n",
              "      <td>0</td>\n",
              "      <td>FULL_TIME</td>\n",
              "      <td>NaN</td>\n",
              "      <td>NaN</td>\n",
              "    </tr>\n",
              "    <tr>\n",
              "      <th>2</th>\n",
              "      <td>133196985</td>\n",
              "      <td>1089558.0</td>\n",
              "      <td>Model Risk Auditor</td>\n",
              "      <td>Join Us as a Model Risk Auditor – Showcase You...</td>\n",
              "      <td>NaN</td>\n",
              "      <td>NaN</td>\n",
              "      <td>NaN</td>\n",
              "      <td>NaN</td>\n",
              "      <td>Contract</td>\n",
              "      <td>New York, NY</td>\n",
              "      <td>...</td>\n",
              "      <td>1695321872000</td>\n",
              "      <td>NaN</td>\n",
              "      <td>NaN</td>\n",
              "      <td>NaN</td>\n",
              "      <td>1692729872000</td>\n",
              "      <td>NaN</td>\n",
              "      <td>0</td>\n",
              "      <td>CONTRACT</td>\n",
              "      <td>NaN</td>\n",
              "      <td>NaN</td>\n",
              "    </tr>\n",
              "    <tr>\n",
              "      <th>3</th>\n",
              "      <td>381055942</td>\n",
              "      <td>96654609.0</td>\n",
              "      <td>Business Manager</td>\n",
              "      <td>Business ManagerFirst Baptist Church ForneyFor...</td>\n",
              "      <td>NaN</td>\n",
              "      <td>NaN</td>\n",
              "      <td>NaN</td>\n",
              "      <td>NaN</td>\n",
              "      <td>Full-time</td>\n",
              "      <td>Forney, TX</td>\n",
              "      <td>...</td>\n",
              "      <td>1695424007000</td>\n",
              "      <td>NaN</td>\n",
              "      <td>NaN</td>\n",
              "      <td>NaN</td>\n",
              "      <td>1692832007000</td>\n",
              "      <td>NaN</td>\n",
              "      <td>0</td>\n",
              "      <td>FULL_TIME</td>\n",
              "      <td>NaN</td>\n",
              "      <td>NaN</td>\n",
              "    </tr>\n",
              "    <tr>\n",
              "      <th>4</th>\n",
              "      <td>529257371</td>\n",
              "      <td>1244539.0</td>\n",
              "      <td>NY Studio Assistant</td>\n",
              "      <td>YOU COULD BE ONE OF THE MAGIC MAKERS\\nKen Fulk...</td>\n",
              "      <td>NaN</td>\n",
              "      <td>NaN</td>\n",
              "      <td>NaN</td>\n",
              "      <td>NaN</td>\n",
              "      <td>Full-time</td>\n",
              "      <td>New York, NY</td>\n",
              "      <td>...</td>\n",
              "      <td>1708419602000</td>\n",
              "      <td>NaN</td>\n",
              "      <td>NaN</td>\n",
              "      <td>NaN</td>\n",
              "      <td>1692867714000</td>\n",
              "      <td>NaN</td>\n",
              "      <td>1</td>\n",
              "      <td>FULL_TIME</td>\n",
              "      <td>NaN</td>\n",
              "      <td>NaN</td>\n",
              "    </tr>\n",
              "    <tr>\n",
              "      <th>...</th>\n",
              "      <td>...</td>\n",
              "      <td>...</td>\n",
              "      <td>...</td>\n",
              "      <td>...</td>\n",
              "      <td>...</td>\n",
              "      <td>...</td>\n",
              "      <td>...</td>\n",
              "      <td>...</td>\n",
              "      <td>...</td>\n",
              "      <td>...</td>\n",
              "      <td>...</td>\n",
              "      <td>...</td>\n",
              "      <td>...</td>\n",
              "      <td>...</td>\n",
              "      <td>...</td>\n",
              "      <td>...</td>\n",
              "      <td>...</td>\n",
              "      <td>...</td>\n",
              "      <td>...</td>\n",
              "      <td>...</td>\n",
              "      <td>...</td>\n",
              "    </tr>\n",
              "    <tr>\n",
              "      <th>15881</th>\n",
              "      <td>3701373516</td>\n",
              "      <td>74718032.0</td>\n",
              "      <td>Sanitation Technician</td>\n",
              "      <td>Location:\\n\\nWest Columbia, SC, US, 29172\\n\\n2...</td>\n",
              "      <td>NaN</td>\n",
              "      <td>NaN</td>\n",
              "      <td>NaN</td>\n",
              "      <td>NaN</td>\n",
              "      <td>Part-time</td>\n",
              "      <td>West Columbia, SC</td>\n",
              "      <td>...</td>\n",
              "      <td>1695336734000</td>\n",
              "      <td>NaN</td>\n",
              "      <td>Entry level</td>\n",
              "      <td>NaN</td>\n",
              "      <td>1692744734000</td>\n",
              "      <td>aspirebakeriescareers.com</td>\n",
              "      <td>0</td>\n",
              "      <td>PART_TIME</td>\n",
              "      <td>NaN</td>\n",
              "      <td>NaN</td>\n",
              "    </tr>\n",
              "    <tr>\n",
              "      <th>15882</th>\n",
              "      <td>3701373522</td>\n",
              "      <td>38897.0</td>\n",
              "      <td>Unit Secretary</td>\n",
              "      <td>Job Title: Unit Secretary\\nDepartment: Nursing...</td>\n",
              "      <td>NaN</td>\n",
              "      <td>NaN</td>\n",
              "      <td>NaN</td>\n",
              "      <td>NaN</td>\n",
              "      <td>Full-time</td>\n",
              "      <td>Teaneck, NJ</td>\n",
              "      <td>...</td>\n",
              "      <td>1695336368000</td>\n",
              "      <td>NaN</td>\n",
              "      <td>Entry level</td>\n",
              "      <td>NaN</td>\n",
              "      <td>1692744368000</td>\n",
              "      <td>recruiting.ultipro.com</td>\n",
              "      <td>0</td>\n",
              "      <td>FULL_TIME</td>\n",
              "      <td>NaN</td>\n",
              "      <td>NaN</td>\n",
              "    </tr>\n",
              "    <tr>\n",
              "      <th>15883</th>\n",
              "      <td>3701373523</td>\n",
              "      <td>38897.0</td>\n",
              "      <td>Radiology Aide, Perdiem</td>\n",
              "      <td>Job Title: Radiology Aide, Perdiem\\nDepartment...</td>\n",
              "      <td>NaN</td>\n",
              "      <td>NaN</td>\n",
              "      <td>NaN</td>\n",
              "      <td>NaN</td>\n",
              "      <td>Part-time</td>\n",
              "      <td>Teaneck, NJ</td>\n",
              "      <td>...</td>\n",
              "      <td>1695336368000</td>\n",
              "      <td>NaN</td>\n",
              "      <td>Entry level</td>\n",
              "      <td>NaN</td>\n",
              "      <td>1692744368000</td>\n",
              "      <td>recruiting.ultipro.com</td>\n",
              "      <td>0</td>\n",
              "      <td>PART_TIME</td>\n",
              "      <td>NaN</td>\n",
              "      <td>NaN</td>\n",
              "    </tr>\n",
              "    <tr>\n",
              "      <th>15884</th>\n",
              "      <td>3701373524</td>\n",
              "      <td>2623.0</td>\n",
              "      <td>MRI Manager</td>\n",
              "      <td>Grade 105\\nJob Type: Officer of Administration...</td>\n",
              "      <td>135000.0</td>\n",
              "      <td>NaN</td>\n",
              "      <td>110000.0</td>\n",
              "      <td>YEARLY</td>\n",
              "      <td>Full-time</td>\n",
              "      <td>New York, NY</td>\n",
              "      <td>...</td>\n",
              "      <td>1695336071000</td>\n",
              "      <td>NaN</td>\n",
              "      <td>Mid-Senior level</td>\n",
              "      <td>NaN</td>\n",
              "      <td>1692744071000</td>\n",
              "      <td>opportunities.columbia.edu</td>\n",
              "      <td>0</td>\n",
              "      <td>FULL_TIME</td>\n",
              "      <td>USD</td>\n",
              "      <td>BASE_SALARY</td>\n",
              "    </tr>\n",
              "    <tr>\n",
              "      <th>15885</th>\n",
              "      <td>3701373527</td>\n",
              "      <td>84659.0</td>\n",
              "      <td>Area Director of Business Development</td>\n",
              "      <td>Nexion Health Management affiliates operate 56...</td>\n",
              "      <td>NaN</td>\n",
              "      <td>NaN</td>\n",
              "      <td>NaN</td>\n",
              "      <td>NaN</td>\n",
              "      <td>Full-time</td>\n",
              "      <td>Vicksburg, MS</td>\n",
              "      <td>...</td>\n",
              "      <td>1695335131000</td>\n",
              "      <td>NaN</td>\n",
              "      <td>NaN</td>\n",
              "      <td>NaN</td>\n",
              "      <td>1692743131000</td>\n",
              "      <td>NaN</td>\n",
              "      <td>0</td>\n",
              "      <td>FULL_TIME</td>\n",
              "      <td>NaN</td>\n",
              "      <td>NaN</td>\n",
              "    </tr>\n",
              "  </tbody>\n",
              "</table>\n",
              "<p>15886 rows × 27 columns</p>\n",
              "</div>\n",
              "    <div class=\"colab-df-buttons\">\n",
              "\n",
              "  <div class=\"colab-df-container\">\n",
              "    <button class=\"colab-df-convert\" onclick=\"convertToInteractive('df-2a808fe5-62ee-4679-acb9-cc0576cef50b')\"\n",
              "            title=\"Convert this dataframe to an interactive table.\"\n",
              "            style=\"display:none;\">\n",
              "\n",
              "  <svg xmlns=\"http://www.w3.org/2000/svg\" height=\"24px\" viewBox=\"0 -960 960 960\">\n",
              "    <path d=\"M120-120v-720h720v720H120Zm60-500h600v-160H180v160Zm220 220h160v-160H400v160Zm0 220h160v-160H400v160ZM180-400h160v-160H180v160Zm440 0h160v-160H620v160ZM180-180h160v-160H180v160Zm440 0h160v-160H620v160Z\"/>\n",
              "  </svg>\n",
              "    </button>\n",
              "\n",
              "  <style>\n",
              "    .colab-df-container {\n",
              "      display:flex;\n",
              "      gap: 12px;\n",
              "    }\n",
              "\n",
              "    .colab-df-convert {\n",
              "      background-color: #E8F0FE;\n",
              "      border: none;\n",
              "      border-radius: 50%;\n",
              "      cursor: pointer;\n",
              "      display: none;\n",
              "      fill: #1967D2;\n",
              "      height: 32px;\n",
              "      padding: 0 0 0 0;\n",
              "      width: 32px;\n",
              "    }\n",
              "\n",
              "    .colab-df-convert:hover {\n",
              "      background-color: #E2EBFA;\n",
              "      box-shadow: 0px 1px 2px rgba(60, 64, 67, 0.3), 0px 1px 3px 1px rgba(60, 64, 67, 0.15);\n",
              "      fill: #174EA6;\n",
              "    }\n",
              "\n",
              "    .colab-df-buttons div {\n",
              "      margin-bottom: 4px;\n",
              "    }\n",
              "\n",
              "    [theme=dark] .colab-df-convert {\n",
              "      background-color: #3B4455;\n",
              "      fill: #D2E3FC;\n",
              "    }\n",
              "\n",
              "    [theme=dark] .colab-df-convert:hover {\n",
              "      background-color: #434B5C;\n",
              "      box-shadow: 0px 1px 3px 1px rgba(0, 0, 0, 0.15);\n",
              "      filter: drop-shadow(0px 1px 2px rgba(0, 0, 0, 0.3));\n",
              "      fill: #FFFFFF;\n",
              "    }\n",
              "  </style>\n",
              "\n",
              "    <script>\n",
              "      const buttonEl =\n",
              "        document.querySelector('#df-2a808fe5-62ee-4679-acb9-cc0576cef50b button.colab-df-convert');\n",
              "      buttonEl.style.display =\n",
              "        google.colab.kernel.accessAllowed ? 'block' : 'none';\n",
              "\n",
              "      async function convertToInteractive(key) {\n",
              "        const element = document.querySelector('#df-2a808fe5-62ee-4679-acb9-cc0576cef50b');\n",
              "        const dataTable =\n",
              "          await google.colab.kernel.invokeFunction('convertToInteractive',\n",
              "                                                    [key], {});\n",
              "        if (!dataTable) return;\n",
              "\n",
              "        const docLinkHtml = 'Like what you see? Visit the ' +\n",
              "          '<a target=\"_blank\" href=https://colab.research.google.com/notebooks/data_table.ipynb>data table notebook</a>'\n",
              "          + ' to learn more about interactive tables.';\n",
              "        element.innerHTML = '';\n",
              "        dataTable['output_type'] = 'display_data';\n",
              "        await google.colab.output.renderOutput(dataTable, element);\n",
              "        const docLink = document.createElement('div');\n",
              "        docLink.innerHTML = docLinkHtml;\n",
              "        element.appendChild(docLink);\n",
              "      }\n",
              "    </script>\n",
              "  </div>\n",
              "\n",
              "\n",
              "<div id=\"df-faf7bd6f-ca76-48c6-9580-435b0bd08ac8\">\n",
              "  <button class=\"colab-df-quickchart\" onclick=\"quickchart('df-faf7bd6f-ca76-48c6-9580-435b0bd08ac8')\"\n",
              "            title=\"Suggest charts\"\n",
              "            style=\"display:none;\">\n",
              "\n",
              "<svg xmlns=\"http://www.w3.org/2000/svg\" height=\"24px\"viewBox=\"0 0 24 24\"\n",
              "     width=\"24px\">\n",
              "    <g>\n",
              "        <path d=\"M19 3H5c-1.1 0-2 .9-2 2v14c0 1.1.9 2 2 2h14c1.1 0 2-.9 2-2V5c0-1.1-.9-2-2-2zM9 17H7v-7h2v7zm4 0h-2V7h2v10zm4 0h-2v-4h2v4z\"/>\n",
              "    </g>\n",
              "</svg>\n",
              "  </button>\n",
              "\n",
              "<style>\n",
              "  .colab-df-quickchart {\n",
              "      --bg-color: #E8F0FE;\n",
              "      --fill-color: #1967D2;\n",
              "      --hover-bg-color: #E2EBFA;\n",
              "      --hover-fill-color: #174EA6;\n",
              "      --disabled-fill-color: #AAA;\n",
              "      --disabled-bg-color: #DDD;\n",
              "  }\n",
              "\n",
              "  [theme=dark] .colab-df-quickchart {\n",
              "      --bg-color: #3B4455;\n",
              "      --fill-color: #D2E3FC;\n",
              "      --hover-bg-color: #434B5C;\n",
              "      --hover-fill-color: #FFFFFF;\n",
              "      --disabled-bg-color: #3B4455;\n",
              "      --disabled-fill-color: #666;\n",
              "  }\n",
              "\n",
              "  .colab-df-quickchart {\n",
              "    background-color: var(--bg-color);\n",
              "    border: none;\n",
              "    border-radius: 50%;\n",
              "    cursor: pointer;\n",
              "    display: none;\n",
              "    fill: var(--fill-color);\n",
              "    height: 32px;\n",
              "    padding: 0;\n",
              "    width: 32px;\n",
              "  }\n",
              "\n",
              "  .colab-df-quickchart:hover {\n",
              "    background-color: var(--hover-bg-color);\n",
              "    box-shadow: 0 1px 2px rgba(60, 64, 67, 0.3), 0 1px 3px 1px rgba(60, 64, 67, 0.15);\n",
              "    fill: var(--button-hover-fill-color);\n",
              "  }\n",
              "\n",
              "  .colab-df-quickchart-complete:disabled,\n",
              "  .colab-df-quickchart-complete:disabled:hover {\n",
              "    background-color: var(--disabled-bg-color);\n",
              "    fill: var(--disabled-fill-color);\n",
              "    box-shadow: none;\n",
              "  }\n",
              "\n",
              "  .colab-df-spinner {\n",
              "    border: 2px solid var(--fill-color);\n",
              "    border-color: transparent;\n",
              "    border-bottom-color: var(--fill-color);\n",
              "    animation:\n",
              "      spin 1s steps(1) infinite;\n",
              "  }\n",
              "\n",
              "  @keyframes spin {\n",
              "    0% {\n",
              "      border-color: transparent;\n",
              "      border-bottom-color: var(--fill-color);\n",
              "      border-left-color: var(--fill-color);\n",
              "    }\n",
              "    20% {\n",
              "      border-color: transparent;\n",
              "      border-left-color: var(--fill-color);\n",
              "      border-top-color: var(--fill-color);\n",
              "    }\n",
              "    30% {\n",
              "      border-color: transparent;\n",
              "      border-left-color: var(--fill-color);\n",
              "      border-top-color: var(--fill-color);\n",
              "      border-right-color: var(--fill-color);\n",
              "    }\n",
              "    40% {\n",
              "      border-color: transparent;\n",
              "      border-right-color: var(--fill-color);\n",
              "      border-top-color: var(--fill-color);\n",
              "    }\n",
              "    60% {\n",
              "      border-color: transparent;\n",
              "      border-right-color: var(--fill-color);\n",
              "    }\n",
              "    80% {\n",
              "      border-color: transparent;\n",
              "      border-right-color: var(--fill-color);\n",
              "      border-bottom-color: var(--fill-color);\n",
              "    }\n",
              "    90% {\n",
              "      border-color: transparent;\n",
              "      border-bottom-color: var(--fill-color);\n",
              "    }\n",
              "  }\n",
              "</style>\n",
              "\n",
              "  <script>\n",
              "    async function quickchart(key) {\n",
              "      const quickchartButtonEl =\n",
              "        document.querySelector('#' + key + ' button');\n",
              "      quickchartButtonEl.disabled = true;  // To prevent multiple clicks.\n",
              "      quickchartButtonEl.classList.add('colab-df-spinner');\n",
              "      try {\n",
              "        const charts = await google.colab.kernel.invokeFunction(\n",
              "            'suggestCharts', [key], {});\n",
              "      } catch (error) {\n",
              "        console.error('Error during call to suggestCharts:', error);\n",
              "      }\n",
              "      quickchartButtonEl.classList.remove('colab-df-spinner');\n",
              "      quickchartButtonEl.classList.add('colab-df-quickchart-complete');\n",
              "    }\n",
              "    (() => {\n",
              "      let quickchartButtonEl =\n",
              "        document.querySelector('#df-faf7bd6f-ca76-48c6-9580-435b0bd08ac8 button');\n",
              "      quickchartButtonEl.style.display =\n",
              "        google.colab.kernel.accessAllowed ? 'block' : 'none';\n",
              "    })();\n",
              "  </script>\n",
              "</div>\n",
              "    </div>\n",
              "  </div>\n"
            ]
          },
          "metadata": {},
          "execution_count": 57
        }
      ]
    },
    {
      "cell_type": "code",
      "source": [
        "text = text[\"description\"].astype(str)\n",
        "text"
      ],
      "metadata": {
        "colab": {
          "base_uri": "https://localhost:8080/"
        },
        "id": "gTWAvU6wLnqV",
        "outputId": "2a8032c5-7968-489e-83fc-62d2562610d3"
      },
      "execution_count": 58,
      "outputs": [
        {
          "output_type": "execute_result",
          "data": {
            "text/plain": [
              "0        While many industries were hurt by the last fe...\n",
              "1        Are you a dynamic and creative marketing profe...\n",
              "2        Join Us as a Model Risk Auditor – Showcase You...\n",
              "3        Business ManagerFirst Baptist Church ForneyFor...\n",
              "4        YOU COULD BE ONE OF THE MAGIC MAKERS\\nKen Fulk...\n",
              "                               ...                        \n",
              "15881    Location:\\n\\nWest Columbia, SC, US, 29172\\n\\n2...\n",
              "15882    Job Title: Unit Secretary\\nDepartment: Nursing...\n",
              "15883    Job Title: Radiology Aide, Perdiem\\nDepartment...\n",
              "15884    Grade 105\\nJob Type: Officer of Administration...\n",
              "15885    Nexion Health Management affiliates operate 56...\n",
              "Name: description, Length: 15886, dtype: object"
            ]
          },
          "metadata": {},
          "execution_count": 58
        }
      ]
    },
    {
      "cell_type": "code",
      "source": [
        "# Showing one job posting\n",
        "text[15]"
      ],
      "metadata": {
        "colab": {
          "base_uri": "https://localhost:8080/",
          "height": 146
        },
        "id": "Hu4yugHPLYn2",
        "outputId": "041d6a7b-d0cc-4c7b-922c-d73097deaf38"
      },
      "execution_count": 59,
      "outputs": [
        {
          "output_type": "execute_result",
          "data": {
            "text/plain": [
              "\"Job Description Summary \\n\\nAs the Virtual Sales Associate Account Manager, Women's Health, you would be responsible for maintaining the relationship with departmental and technical decision makers in their assigned accounts and where applicable. The Associate Account Manager is the clinical/technical and sales expert for their assigned products, solutions/services (mammography, bone density, and automated breast ultrasound). They are expected to be able to differentiate GE's product/solution/service offerings, convey compelling value propositions, lead the opportunity, qualify the customer needs, develop, and present solutions proposals and quotations, and respond to customers' clinical/technical/process questions to successfully close clinical/technical/solution sales.GE Healthcare is a place with big impact. We unlock opportunities for our people, our customers, and their patients, turning big ideas into realities that advance global healthcare.\\n\\nJob Description\\n\\n Essential Responsibilities \\n\\n The Virtual Sales Associate Account Manager is responsible for maintaining the relationship with departmental and technical decision makers in their assigned accounts and where applicable. The Associate Account Manager is the clinical/technical and sales expert for their assigned products, solutions/services, and is expected to be able to differentiate GE's product/solution/service offerings, convey compelling value propositions, lead the opportunity, qualify the customer needs, develop, and present solutions proposals and quotations, and respond to customers' clinical/technical/process questions in order to successfully close clinical/technical/solution sales. \\n\\n Key responsibilities include (but are not limited to): \\n\\n · Accountable to achieve Product/Solutions/Service orders and sales OP target for assigned accounts and or territory. \\n\\n · Ensure pricing compliance for segment opportunities. \\n\\n · Forecast orders and sales within the applicable sales funnel tools and reports for their products/solutions/services in their assigned territory/accounts. \\n\\n Territory & Account Management \\n\\n · Create territory/account plans including opportunity development, competitive strategies and targets. \\n\\n · Build strong business relationships and formulate account relationship plans within the assigned accounts/ territory. Identify & respond to key account technical and departmental decision makers' needs and maintain customer contact records in the relevant CRM tools. \\n\\n · Track and communicate market trends to/from the field including competitor data and develop effective counterstrategies. \\n\\n Product & Market Expertise \\n\\n · Maintain up to date detailed knowledge of their product/solution/services. Be able to present and discuss the technology and clinical benefits in terms which are relevant to customers. \\n\\n · Maintain up to date market and competitor knowledge related to their product/solutions/services. \\n\\n · Develop understanding of the customers changing clinical and/or operational issues and challenges. \\n\\n · Create viable product configurations which meet customer needs effectively, while achieving optimum margin for GE. \\n\\n · Differentiate assigned product offering during the various stages of the sales process, effectively using GE resources and approved product marketing and product promotion material to actively support the customer through their decision-making process towards a successful outcome for GE. \\n\\n Opportunity Management \\n\\n · Identify and create new opportunities and work with sales leaders and account teams (where applicable) to continuously increase prospect funnel. \\n\\n · Drive tender/bid process including the needs qualification, vendor selection, quotation and closure of their product/solution/service opportunities to meet orders, sales and margin targets as well as to maximize customer satisfaction assigned territory. \\n\\n · Create and maintain opportunities in the applicable sales funnel tool and/ or CRM tools. \\n\\n · Ownership of order and configuration quality at the point of entry to ensure accuracy, configuration integrity and that all requirements are tied to documented customer inputs. \\n\\n · Estimate date of delivery to customer based on knowledge of the company's production and delivery schedules ensuring fulfillment of the order is according to customer expectations and enhances customer satisfaction. \\n\\n · Contribute to account plans at accounts covered by account managers/executives. \\n\\n · Collaborate with and leverage subject matter experts and other resources within GEHC channels to build relationships. \\n\\n Qualifications/Requirements: Bachelor’s Degree or 5 years of sales experience in the healthcare industry.\\nAbility to interface with both internal team members and external customers as part of solutions-based sales approach.\\nAbility to energize, develop and build rapport at all levels within an organization.\\nStrong capacity and drive to develop career.\\nExcellent verbal and written communication skills.\\nAbility to synthesize complex issues and communicate in simple messages.\\nExcellent organizational skills.\\nExcellent negotiation, closing & presentation skills.\\nAbility to travel within the territory once per quarter, up to 5%.\\nValid motor vehicle license.\\n\\nDesired Characteristics:Proven track record in outside sales.\\n\\n We expect all employees to live and breathe our behaviors: to act with humility and build trust; lead with transparency; deliver with focus, and drive ownership –always with unyielding integrity. \\n\\n Our total rewards are designed to unlock your ambition by giving you the boost and flexibility you need to turn your ideas into world-changing realities. Our salary and benefits are everything you’d expect from an organization with global strength and scale, and you’ll be surrounded by career opportunities in a culture that fosters care, collaboration and support. \\n\\n For U.S. based positions only, the pay range for this position is  $44,,000-$66,000.  It is not typical for an individual to be hired at or near the top of the pay range and compensation decisions are dependent on the facts and circumstances of each case. The specific compensation offered to a candidate may be influenced by a variety of factors including skills, qualifications, experience and location. In addition, this position may also be eligible to earn performance based incentive compensation, which may include cash bonus(es) and/or long term incentives (LTI). GE HealthCare offers a competitive benefits package, including but not limited to medical, dental, vision, paid time off, a 401(k) plan with employee and company contribution opportunities, life, disability, and accident insurance, and tuition reimbursement. \\n\\n \\n\\n \\n\\n While GE HealthCare does not currently require U.S. employees to be vaccinated against COVID-19, some GE HealthCare customers have vaccination mandates that may apply to certain GE HealthCare employees. \\n\\n Additional Information \\n\\n GE offers a great work environment, professional development, challenging careers, and competitive compensation. GE is an Equal Opportunity Employer . Employment decisions are made without regard to race, color, religion, national or ethnic origin, sex, sexual orientation, gender identity or expression, age, disability, protected veteran status or other characteristics protected by law. \\n\\n GE will only employ those who are legally authorized to work in the United States for this opening. Any offer of employment is conditioned upon the successful completion of a drug screen (as applicable). \\n\\nRelocation Assistance Provided:  No\""
            ],
            "application/vnd.google.colaboratory.intrinsic+json": {
              "type": "string"
            }
          },
          "metadata": {},
          "execution_count": 59
        }
      ]
    },
    {
      "cell_type": "code",
      "execution_count": 60,
      "metadata": {
        "id": "7HKxQZSjEjbq"
      },
      "outputs": [],
      "source": [
        "# join all the entries together\n",
        "text_combined = \" \".join(text)\n",
        "# replace \\n by spaces\n",
        "text_combined = text_combined.replace(\"\\n\", \" \")"
      ]
    },
    {
      "cell_type": "code",
      "source": [
        "# print some characters from the text dataset\n",
        "text_combined[1500:3000]"
      ],
      "metadata": {
        "colab": {
          "base_uri": "https://localhost:8080/",
          "height": 146
        },
        "id": "x2H1AdO4KyMu",
        "outputId": "b7633265-986a-4fb6-c0ad-15b831f2e1b3"
      },
      "execution_count": 61,
      "outputs": [
        {
          "output_type": "execute_result",
          "data": {
            "text/plain": [
              "\"ember!? Apply today and let's connect! Job Type: Full-time Pay: $19.00 - $22.00 per hour Benefits:401(k)401(k) matchingDental insuranceHealth insurancePaid time offParental leaveVision insuranceSupplemental pay types:Bonus payCommission payWeekly day range:Monday to FridayWork setting:In-personOfficeWork Location: In person Are you a dynamic and creative marketing professional looking to make a significant impact in the world of freight and logistics? We are seeking a talented Marketing Manager to join our team and drive our marketing initiatives to new heights. If you're passionate about shaping brand narratives, developing strategic campaigns, and thrive in a fast-paced environment, we want to hear from you!Key Responsibilities:Develop and execute comprehensive marketing strategies to enhance brand visibility and promote our freight and logistics services.Lead a team of marketing specialists, fostering collaboration and guiding their efforts towards achieving set goals.Analyze market trends, customer behavior, and competitor activity to identify growth opportunities and refine strategies.Manage the company's online presence, optimizing the website and social media channels for maximum engagement and conversions.Plan and oversee participation in industry events, conferences, and trade shows to showcase our services and network with potential clients.Measure and report on the performance of marketing campaigns, using data-driven insights to continuously improve strategies.Qua\""
            ],
            "application/vnd.google.colaboratory.intrinsic+json": {
              "type": "string"
            }
          },
          "metadata": {},
          "execution_count": 61
        }
      ]
    },
    {
      "cell_type": "markdown",
      "source": [
        "Plotting the frequency distribution of the most common words"
      ],
      "metadata": {
        "id": "l1uHumTBM8f1"
      }
    },
    {
      "cell_type": "code",
      "source": [
        "from nltk import FreqDist, word_tokenize\n",
        "\n",
        "nltk.download(\"punkt\")\n",
        "\n",
        "words = word_tokenize(text_combined)\n",
        "frequency_distribution = FreqDist(words)"
      ],
      "metadata": {
        "colab": {
          "base_uri": "https://localhost:8080/"
        },
        "id": "BB6YuZxZMzWM",
        "outputId": "1b854b49-0dd0-4e1e-a163-f9c8bdeda108"
      },
      "execution_count": 62,
      "outputs": [
        {
          "output_type": "stream",
          "name": "stderr",
          "text": [
            "[nltk_data] Downloading package punkt to /root/nltk_data...\n",
            "[nltk_data]   Package punkt is already up-to-date!\n"
          ]
        }
      ]
    },
    {
      "cell_type": "code",
      "source": [
        "# print the most common words\n",
        "frequency_distribution.most_common(20)"
      ],
      "metadata": {
        "colab": {
          "base_uri": "https://localhost:8080/"
        },
        "id": "jR-Verx6NFZY",
        "outputId": "5c809c3a-68d4-4767-998b-9a316c9af4f5"
      },
      "execution_count": 63,
      "outputs": [
        {
          "output_type": "execute_result",
          "data": {
            "text/plain": [
              "[(',', 582588),\n",
              " ('and', 474315),\n",
              " ('.', 266411),\n",
              " ('to', 255365),\n",
              " ('the', 202705),\n",
              " ('of', 183339),\n",
              " ('a', 133053),\n",
              " ('in', 123892),\n",
              " ('with', 107645),\n",
              " ('for', 97687),\n",
              " (':', 68735),\n",
              " ('or', 67061),\n",
              " ('is', 62196),\n",
              " (')', 53644),\n",
              " ('(', 53323),\n",
              " ('as', 49962),\n",
              " ('our', 47669),\n",
              " ('on', 43508),\n",
              " ('are', 40618),\n",
              " ('be', 39623)]"
            ]
          },
          "metadata": {},
          "execution_count": 63
        }
      ]
    },
    {
      "cell_type": "markdown",
      "source": [
        "It was expected that the most common words are the \"connecting\" ones. Therefore, it is necessary to remove them."
      ],
      "metadata": {
        "id": "yFtmeCu_PO_T"
      }
    },
    {
      "cell_type": "code",
      "source": [
        "from nltk.corpus import stopwords\n",
        "\n",
        "nltk.download(\"stopwords\")\n",
        "\n",
        "stop_words = set(stopwords.words(\"english\"))"
      ],
      "metadata": {
        "colab": {
          "base_uri": "https://localhost:8080/"
        },
        "id": "ldU2d1YJPWSd",
        "outputId": "05a1a38a-8a47-4be5-e929-9373dfb6bccd"
      },
      "execution_count": 64,
      "outputs": [
        {
          "output_type": "stream",
          "name": "stderr",
          "text": [
            "[nltk_data] Downloading package stopwords to /root/nltk_data...\n",
            "[nltk_data]   Package stopwords is already up-to-date!\n"
          ]
        }
      ]
    },
    {
      "cell_type": "code",
      "source": [
        "# getting only the meaningful words\n",
        "meaningful_words = [\n",
        "  word for word in words if word.casefold() not in stop_words\n",
        "]"
      ],
      "metadata": {
        "id": "0D59wa2oPmng"
      },
      "execution_count": 65,
      "outputs": []
    },
    {
      "cell_type": "code",
      "source": [
        "frequency_distribution = FreqDist(meaningful_words)\n",
        "# print the most common meaningful words\n",
        "frequency_distribution.most_common(20)"
      ],
      "metadata": {
        "colab": {
          "base_uri": "https://localhost:8080/"
        },
        "id": "Hh8X5eTMP0lh",
        "outputId": "1431c74b-a955-4816-b8ec-6ff9b359e63c"
      },
      "execution_count": 66,
      "outputs": [
        {
          "output_type": "execute_result",
          "data": {
            "text/plain": [
              "[(',', 582588),\n",
              " ('.', 266411),\n",
              " (':', 68735),\n",
              " (')', 53644),\n",
              " ('(', 53323),\n",
              " ('’', 37353),\n",
              " ('work', 35995),\n",
              " ('experience', 35035),\n",
              " ('team', 27922),\n",
              " ('including', 22610),\n",
              " (';', 20580),\n",
              " ('business', 19320),\n",
              " ('skills', 18736),\n",
              " ('&', 18133),\n",
              " ('years', 16204),\n",
              " ('management', 16173),\n",
              " ('-', 15255),\n",
              " ('support', 15248),\n",
              " ('customer', 15191),\n",
              " ('position', 14698)]"
            ]
          },
          "metadata": {},
          "execution_count": 66
        }
      ]
    },
    {
      "cell_type": "code",
      "source": [
        "# plot the results\n",
        "frequency_distribution.plot(20, cumulative=True)"
      ],
      "metadata": {
        "colab": {
          "base_uri": "https://localhost:8080/",
          "height": 562
        },
        "id": "1WW3JSA9QE3b",
        "outputId": "18396156-dce0-4528-f9a3-4ab60ffa2ef0"
      },
      "execution_count": 67,
      "outputs": [
        {
          "output_type": "display_data",
          "data": {
            "text/plain": [
              "<Figure size 640x480 with 1 Axes>"
            ],
            "image/png": "[encoded data removed]"
          },
          "metadata": {}
        },
        {
          "output_type": "execute_result",
          "data": {
            "text/plain": [
              "<Axes: xlabel='Samples', ylabel='Cumulative Counts'>"
            ]
          },
          "metadata": {},
          "execution_count": 67
        }
      ]
    },
    {
      "cell_type": "markdown",
      "source": [
        "Generating text with Markovify"
      ],
      "metadata": {
        "id": "lMLXhT0uMwG5"
      }
    },
    {
      "cell_type": "code",
      "execution_count": 68,
      "metadata": {
        "id": "atsY8KIrEjbq"
      },
      "outputs": [],
      "source": [
        "generator_markovify = markovify.Text(text_combined)"
      ]
    },
    {
      "cell_type": "code",
      "execution_count": 69,
      "metadata": {
        "colab": {
          "base_uri": "https://localhost:8080/"
        },
        "id": "vpI43KntEjbq",
        "outputId": "8d611290-0c2c-44d8-ab08-949b15b74da3"
      },
      "outputs": [
        {
          "output_type": "stream",
          "name": "stdout",
          "text": [
            "Company DescriptionNumotion is looking to make technologies work together and inspire them to event management.Assists with responsibilities and qualifications. \n",
            "\n",
            "We do not discriminate against any employee, or applicant for employment without regard to race, color, age, national origin, protected veteran status or characteristic. \n",
            "\n",
            "Key job responsibilities As a communications specialist to assist in operational processes effectively and professionally communicate in a moderately complex homeowner property insurance products and participate in the workplace. \n",
            "\n",
            "The USA Pacific-Northwest BDM will serve in a manufacturing cell of a team as an expert in the event no SROA or Surplus candidates are given below;if you are encouraged to apply. \n",
            "\n",
            "While GE HealthCare customers have vaccination mandates that may be entitled to a department head or manager. \n",
            "\n",
            "These kinds of people in moving, growing, connecting, and being there for you to join our Digital Engineering Services leverages more than 225 branch offices across the organization and play a key foundation of a function and operation of a university / college degree, preferred degrees will include Georgia, Alabama and Columbia, Maryland that service both user and key priorities We care for individuals who thrive in an efficient and effective litigation management and provides analysis of variable pay via a variety of maintenance, repair, installation & modification of all identities can thrive. \n",
            "\n",
            "Customer focused, with an agile environment, using the online system and possessing proficient computer skills and ability to take constructive feedback. \n",
            "\n",
            "Partner across with computational sciences, protein sciences, commercial, and field offices to our customers, and vendors.Strong organizational and time management and participating in educational activities. \n",
            "\n",
            "The environment generally is moderate to large size. projects from time to meet the requirements within SLA’s.Ensure timely and to provide exceptional service to our partners on the sales team. \n",
            "\n",
            "Compensation packages are based on functional and design captivating solutions for ongoing growth and are not satisfied with a mission to guide a phone conversation with a manager for implementing policies related to soliciting interest in broad range of AtoN products in the scope of the cities we love. \n",
            "\n",
            "Assistance may include rules regarding eligibility, enrollment, waiting period, those hired into this role. \n",
            "\n",
            "3-5 Minimum Years of Related Professional Experience: 5+BA/BS in Business, Computer Science, or equivalent Preferred Experience in accounting, finance or related tools to maximize the program’s communication strategy for the following qualifications than this is simply Business Development, Sales and impacting your community. \n",
            "\n"
          ]
        }
      ],
      "source": [
        "for i in range(12):\n",
        "    print(generator_markovify.make_sentence(),  \"\\n\")"
      ]
    },
    {
      "cell_type": "markdown",
      "source": [
        "Let's add another text dataset with Trump tweets (until April 2020). Then, both datasets are combined for Markovify."
      ],
      "metadata": {
        "id": "aOgUWCyHAPqh"
      }
    },
    {
      "cell_type": "code",
      "execution_count": 70,
      "metadata": {
        "id": "25a1b5U5Ejbq",
        "colab": {
          "base_uri": "https://localhost:8080/",
          "height": 597
        },
        "outputId": "d2cd8203-6b81-4780-ebe9-23167d244577"
      },
      "outputs": [
        {
          "output_type": "execute_result",
          "data": {
            "text/plain": [
              "                        id                                               link  \\\n",
              "0               1698308935  https://twitter.com/realDonaldTrump/status/169...   \n",
              "1               1701461182  https://twitter.com/realDonaldTrump/status/170...   \n",
              "2               1737479987  https://twitter.com/realDonaldTrump/status/173...   \n",
              "3               1741160716  https://twitter.com/realDonaldTrump/status/174...   \n",
              "4               1773561338  https://twitter.com/realDonaldTrump/status/177...   \n",
              "...                    ...                                                ...   \n",
              "43347  1273405198698975232  https://twitter.com/realDonaldTrump/status/127...   \n",
              "43348  1273408026968457216  https://twitter.com/realDonaldTrump/status/127...   \n",
              "43349  1273442195161387008  https://twitter.com/realDonaldTrump/status/127...   \n",
              "43350  1273442469066276864  https://twitter.com/realDonaldTrump/status/127...   \n",
              "43351  1273442528411385858  https://twitter.com/realDonaldTrump/status/127...   \n",
              "\n",
              "                                                 content                 date  \\\n",
              "0      Be sure to tune in and watch Donald Trump on L...  2009-05-04 13:54:25   \n",
              "1      Donald Trump will be appearing on The View tom...  2009-05-04 20:00:10   \n",
              "2      Donald Trump reads Top Ten Financial Tips on L...  2009-05-08 08:38:08   \n",
              "3      New Blog Post: Celebrity Apprentice Finale and...  2009-05-08 15:40:15   \n",
              "4      \"My persona will never be that of a wallflower...  2009-05-12 09:07:28   \n",
              "...                                                  ...                  ...   \n",
              "43347  Joe Biden was a TOTAL FAILURE in Government. H...  2020-06-17 19:00:32   \n",
              "43348  Will be interviewed on @ seanhannity tonight a...  2020-06-17 19:11:47   \n",
              "43349                         pic.twitter.com/3lm1spbU8X  2020-06-17 21:27:33   \n",
              "43350                         pic.twitter.com/vpCE5MadUz  2020-06-17 21:28:38   \n",
              "43351                         pic.twitter.com/VLlc0BHW41  2020-06-17 21:28:52   \n",
              "\n",
              "       retweets  favorites      mentions hashtags  \n",
              "0           510        917           NaN      NaN  \n",
              "1            34        267           NaN      NaN  \n",
              "2            13         19           NaN      NaN  \n",
              "3            11         26           NaN      NaN  \n",
              "4          1375       1945           NaN      NaN  \n",
              "...         ...        ...           ...      ...  \n",
              "43347     23402     116377           NaN      NaN  \n",
              "43348     11810      56659  @seanhannity      NaN  \n",
              "43349      4959      19344           NaN      NaN  \n",
              "43350      4627      17022           NaN      NaN  \n",
              "43351      3951      14344           NaN      NaN  \n",
              "\n",
              "[43352 rows x 8 columns]"
            ],
            "text/html": [
              "\n",
              "  <div id=\"df-7250493e-c759-4dee-b70a-7ba4db45a22c\" class=\"colab-df-container\">\n",
              "    <div>\n",
              "<style scoped>\n",
              "    .dataframe tbody tr th:only-of-type {\n",
              "        vertical-align: middle;\n",
              "    }\n",
              "\n",
              "    .dataframe tbody tr th {\n",
              "        vertical-align: top;\n",
              "    }\n",
              "\n",
              "    .dataframe thead th {\n",
              "        text-align: right;\n",
              "    }\n",
              "</style>\n",
              "<table border=\"1\" class=\"dataframe\">\n",
              "  <thead>\n",
              "    <tr style=\"text-align: right;\">\n",
              "      <th></th>\n",
              "      <th>id</th>\n",
              "      <th>link</th>\n",
              "      <th>content</th>\n",
              "      <th>date</th>\n",
              "      <th>retweets</th>\n",
              "      <th>favorites</th>\n",
              "      <th>mentions</th>\n",
              "      <th>hashtags</th>\n",
              "    </tr>\n",
              "  </thead>\n",
              "  <tbody>\n",
              "    <tr>\n",
              "      <th>0</th>\n",
              "      <td>1698308935</td>\n",
              "      <td>https://twitter.com/realDonaldTrump/status/169...</td>\n",
              "      <td>Be sure to tune in and watch Donald Trump on L...</td>\n",
              "      <td>2009-05-04 13:54:25</td>\n",
              "      <td>510</td>\n",
              "      <td>917</td>\n",
              "      <td>NaN</td>\n",
              "      <td>NaN</td>\n",
              "    </tr>\n",
              "    <tr>\n",
              "      <th>1</th>\n",
              "      <td>1701461182</td>\n",
              "      <td>https://twitter.com/realDonaldTrump/status/170...</td>\n",
              "      <td>Donald Trump will be appearing on The View tom...</td>\n",
              "      <td>2009-05-04 20:00:10</td>\n",
              "      <td>34</td>\n",
              "      <td>267</td>\n",
              "      <td>NaN</td>\n",
              "      <td>NaN</td>\n",
              "    </tr>\n",
              "    <tr>\n",
              "      <th>2</th>\n",
              "      <td>1737479987</td>\n",
              "      <td>https://twitter.com/realDonaldTrump/status/173...</td>\n",
              "      <td>Donald Trump reads Top Ten Financial Tips on L...</td>\n",
              "      <td>2009-05-08 08:38:08</td>\n",
              "      <td>13</td>\n",
              "      <td>19</td>\n",
              "      <td>NaN</td>\n",
              "      <td>NaN</td>\n",
              "    </tr>\n",
              "    <tr>\n",
              "      <th>3</th>\n",
              "      <td>1741160716</td>\n",
              "      <td>https://twitter.com/realDonaldTrump/status/174...</td>\n",
              "      <td>New Blog Post: Celebrity Apprentice Finale and...</td>\n",
              "      <td>2009-05-08 15:40:15</td>\n",
              "      <td>11</td>\n",
              "      <td>26</td>\n",
              "      <td>NaN</td>\n",
              "      <td>NaN</td>\n",
              "    </tr>\n",
              "    <tr>\n",
              "      <th>4</th>\n",
              "      <td>1773561338</td>\n",
              "      <td>https://twitter.com/realDonaldTrump/status/177...</td>\n",
              "      <td>\"My persona will never be that of a wallflower...</td>\n",
              "      <td>2009-05-12 09:07:28</td>\n",
              "      <td>1375</td>\n",
              "      <td>1945</td>\n",
              "      <td>NaN</td>\n",
              "      <td>NaN</td>\n",
              "    </tr>\n",
              "    <tr>\n",
              "      <th>...</th>\n",
              "      <td>...</td>\n",
              "      <td>...</td>\n",
              "      <td>...</td>\n",
              "      <td>...</td>\n",
              "      <td>...</td>\n",
              "      <td>...</td>\n",
              "      <td>...</td>\n",
              "      <td>...</td>\n",
              "    </tr>\n",
              "    <tr>\n",
              "      <th>43347</th>\n",
              "      <td>1273405198698975232</td>\n",
              "      <td>https://twitter.com/realDonaldTrump/status/127...</td>\n",
              "      <td>Joe Biden was a TOTAL FAILURE in Government. H...</td>\n",
              "      <td>2020-06-17 19:00:32</td>\n",
              "      <td>23402</td>\n",
              "      <td>116377</td>\n",
              "      <td>NaN</td>\n",
              "      <td>NaN</td>\n",
              "    </tr>\n",
              "    <tr>\n",
              "      <th>43348</th>\n",
              "      <td>1273408026968457216</td>\n",
              "      <td>https://twitter.com/realDonaldTrump/status/127...</td>\n",
              "      <td>Will be interviewed on @ seanhannity tonight a...</td>\n",
              "      <td>2020-06-17 19:11:47</td>\n",
              "      <td>11810</td>\n",
              "      <td>56659</td>\n",
              "      <td>@seanhannity</td>\n",
              "      <td>NaN</td>\n",
              "    </tr>\n",
              "    <tr>\n",
              "      <th>43349</th>\n",
              "      <td>1273442195161387008</td>\n",
              "      <td>https://twitter.com/realDonaldTrump/status/127...</td>\n",
              "      <td>pic.twitter.com/3lm1spbU8X</td>\n",
              "      <td>2020-06-17 21:27:33</td>\n",
              "      <td>4959</td>\n",
              "      <td>19344</td>\n",
              "      <td>NaN</td>\n",
              "      <td>NaN</td>\n",
              "    </tr>\n",
              "    <tr>\n",
              "      <th>43350</th>\n",
              "      <td>1273442469066276864</td>\n",
              "      <td>https://twitter.com/realDonaldTrump/status/127...</td>\n",
              "      <td>pic.twitter.com/vpCE5MadUz</td>\n",
              "      <td>2020-06-17 21:28:38</td>\n",
              "      <td>4627</td>\n",
              "      <td>17022</td>\n",
              "      <td>NaN</td>\n",
              "      <td>NaN</td>\n",
              "    </tr>\n",
              "    <tr>\n",
              "      <th>43351</th>\n",
              "      <td>1273442528411385858</td>\n",
              "      <td>https://twitter.com/realDonaldTrump/status/127...</td>\n",
              "      <td>pic.twitter.com/VLlc0BHW41</td>\n",
              "      <td>2020-06-17 21:28:52</td>\n",
              "      <td>3951</td>\n",
              "      <td>14344</td>\n",
              "      <td>NaN</td>\n",
              "      <td>NaN</td>\n",
              "    </tr>\n",
              "  </tbody>\n",
              "</table>\n",
              "<p>43352 rows × 8 columns</p>\n",
              "</div>\n",
              "    <div class=\"colab-df-buttons\">\n",
              "\n",
              "  <div class=\"colab-df-container\">\n",
              "    <button class=\"colab-df-convert\" onclick=\"convertToInteractive('df-7250493e-c759-4dee-b70a-7ba4db45a22c')\"\n",
              "            title=\"Convert this dataframe to an interactive table.\"\n",
              "            style=\"display:none;\">\n",
              "\n",
              "  <svg xmlns=\"http://www.w3.org/2000/svg\" height=\"24px\" viewBox=\"0 -960 960 960\">\n",
              "    <path d=\"M120-120v-720h720v720H120Zm60-500h600v-160H180v160Zm220 220h160v-160H400v160Zm0 220h160v-160H400v160ZM180-400h160v-160H180v160Zm440 0h160v-160H620v160ZM180-180h160v-160H180v160Zm440 0h160v-160H620v160Z\"/>\n",
              "  </svg>\n",
              "    </button>\n",
              "\n",
              "  <style>\n",
              "    .colab-df-container {\n",
              "      display:flex;\n",
              "      gap: 12px;\n",
              "    }\n",
              "\n",
              "    .colab-df-convert {\n",
              "      background-color: #E8F0FE;\n",
              "      border: none;\n",
              "      border-radius: 50%;\n",
              "      cursor: pointer;\n",
              "      display: none;\n",
              "      fill: #1967D2;\n",
              "      height: 32px;\n",
              "      padding: 0 0 0 0;\n",
              "      width: 32px;\n",
              "    }\n",
              "\n",
              "    .colab-df-convert:hover {\n",
              "      background-color: #E2EBFA;\n",
              "      box-shadow: 0px 1px 2px rgba(60, 64, 67, 0.3), 0px 1px 3px 1px rgba(60, 64, 67, 0.15);\n",
              "      fill: #174EA6;\n",
              "    }\n",
              "\n",
              "    .colab-df-buttons div {\n",
              "      margin-bottom: 4px;\n",
              "    }\n",
              "\n",
              "    [theme=dark] .colab-df-convert {\n",
              "      background-color: #3B4455;\n",
              "      fill: #D2E3FC;\n",
              "    }\n",
              "\n",
              "    [theme=dark] .colab-df-convert:hover {\n",
              "      background-color: #434B5C;\n",
              "      box-shadow: 0px 1px 3px 1px rgba(0, 0, 0, 0.15);\n",
              "      filter: drop-shadow(0px 1px 2px rgba(0, 0, 0, 0.3));\n",
              "      fill: #FFFFFF;\n",
              "    }\n",
              "  </style>\n",
              "\n",
              "    <script>\n",
              "      const buttonEl =\n",
              "        document.querySelector('#df-7250493e-c759-4dee-b70a-7ba4db45a22c button.colab-df-convert');\n",
              "      buttonEl.style.display =\n",
              "        google.colab.kernel.accessAllowed ? 'block' : 'none';\n",
              "\n",
              "      async function convertToInteractive(key) {\n",
              "        const element = document.querySelector('#df-7250493e-c759-4dee-b70a-7ba4db45a22c');\n",
              "        const dataTable =\n",
              "          await google.colab.kernel.invokeFunction('convertToInteractive',\n",
              "                                                    [key], {});\n",
              "        if (!dataTable) return;\n",
              "\n",
              "        const docLinkHtml = 'Like what you see? Visit the ' +\n",
              "          '<a target=\"_blank\" href=https://colab.research.google.com/notebooks/data_table.ipynb>data table notebook</a>'\n",
              "          + ' to learn more about interactive tables.';\n",
              "        element.innerHTML = '';\n",
              "        dataTable['output_type'] = 'display_data';\n",
              "        await google.colab.output.renderOutput(dataTable, element);\n",
              "        const docLink = document.createElement('div');\n",
              "        docLink.innerHTML = docLinkHtml;\n",
              "        element.appendChild(docLink);\n",
              "      }\n",
              "    </script>\n",
              "  </div>\n",
              "\n",
              "\n",
              "<div id=\"df-89be7a8a-ec7d-46b6-860a-c579a68a56b5\">\n",
              "  <button class=\"colab-df-quickchart\" onclick=\"quickchart('df-89be7a8a-ec7d-46b6-860a-c579a68a56b5')\"\n",
              "            title=\"Suggest charts\"\n",
              "            style=\"display:none;\">\n",
              "\n",
              "<svg xmlns=\"http://www.w3.org/2000/svg\" height=\"24px\"viewBox=\"0 0 24 24\"\n",
              "     width=\"24px\">\n",
              "    <g>\n",
              "        <path d=\"M19 3H5c-1.1 0-2 .9-2 2v14c0 1.1.9 2 2 2h14c1.1 0 2-.9 2-2V5c0-1.1-.9-2-2-2zM9 17H7v-7h2v7zm4 0h-2V7h2v10zm4 0h-2v-4h2v4z\"/>\n",
              "    </g>\n",
              "</svg>\n",
              "  </button>\n",
              "\n",
              "<style>\n",
              "  .colab-df-quickchart {\n",
              "      --bg-color: #E8F0FE;\n",
              "      --fill-color: #1967D2;\n",
              "      --hover-bg-color: #E2EBFA;\n",
              "      --hover-fill-color: #174EA6;\n",
              "      --disabled-fill-color: #AAA;\n",
              "      --disabled-bg-color: #DDD;\n",
              "  }\n",
              "\n",
              "  [theme=dark] .colab-df-quickchart {\n",
              "      --bg-color: #3B4455;\n",
              "      --fill-color: #D2E3FC;\n",
              "      --hover-bg-color: #434B5C;\n",
              "      --hover-fill-color: #FFFFFF;\n",
              "      --disabled-bg-color: #3B4455;\n",
              "      --disabled-fill-color: #666;\n",
              "  }\n",
              "\n",
              "  .colab-df-quickchart {\n",
              "    background-color: var(--bg-color);\n",
              "    border: none;\n",
              "    border-radius: 50%;\n",
              "    cursor: pointer;\n",
              "    display: none;\n",
              "    fill: var(--fill-color);\n",
              "    height: 32px;\n",
              "    padding: 0;\n",
              "    width: 32px;\n",
              "  }\n",
              "\n",
              "  .colab-df-quickchart:hover {\n",
              "    background-color: var(--hover-bg-color);\n",
              "    box-shadow: 0 1px 2px rgba(60, 64, 67, 0.3), 0 1px 3px 1px rgba(60, 64, 67, 0.15);\n",
              "    fill: var(--button-hover-fill-color);\n",
              "  }\n",
              "\n",
              "  .colab-df-quickchart-complete:disabled,\n",
              "  .colab-df-quickchart-complete:disabled:hover {\n",
              "    background-color: var(--disabled-bg-color);\n",
              "    fill: var(--disabled-fill-color);\n",
              "    box-shadow: none;\n",
              "  }\n",
              "\n",
              "  .colab-df-spinner {\n",
              "    border: 2px solid var(--fill-color);\n",
              "    border-color: transparent;\n",
              "    border-bottom-color: var(--fill-color);\n",
              "    animation:\n",
              "      spin 1s steps(1) infinite;\n",
              "  }\n",
              "\n",
              "  @keyframes spin {\n",
              "    0% {\n",
              "      border-color: transparent;\n",
              "      border-bottom-color: var(--fill-color);\n",
              "      border-left-color: var(--fill-color);\n",
              "    }\n",
              "    20% {\n",
              "      border-color: transparent;\n",
              "      border-left-color: var(--fill-color);\n",
              "      border-top-color: var(--fill-color);\n",
              "    }\n",
              "    30% {\n",
              "      border-color: transparent;\n",
              "      border-left-color: var(--fill-color);\n",
              "      border-top-color: var(--fill-color);\n",
              "      border-right-color: var(--fill-color);\n",
              "    }\n",
              "    40% {\n",
              "      border-color: transparent;\n",
              "      border-right-color: var(--fill-color);\n",
              "      border-top-color: var(--fill-color);\n",
              "    }\n",
              "    60% {\n",
              "      border-color: transparent;\n",
              "      border-right-color: var(--fill-color);\n",
              "    }\n",
              "    80% {\n",
              "      border-color: transparent;\n",
              "      border-right-color: var(--fill-color);\n",
              "      border-bottom-color: var(--fill-color);\n",
              "    }\n",
              "    90% {\n",
              "      border-color: transparent;\n",
              "      border-bottom-color: var(--fill-color);\n",
              "    }\n",
              "  }\n",
              "</style>\n",
              "\n",
              "  <script>\n",
              "    async function quickchart(key) {\n",
              "      const quickchartButtonEl =\n",
              "        document.querySelector('#' + key + ' button');\n",
              "      quickchartButtonEl.disabled = true;  // To prevent multiple clicks.\n",
              "      quickchartButtonEl.classList.add('colab-df-spinner');\n",
              "      try {\n",
              "        const charts = await google.colab.kernel.invokeFunction(\n",
              "            'suggestCharts', [key], {});\n",
              "      } catch (error) {\n",
              "        console.error('Error during call to suggestCharts:', error);\n",
              "      }\n",
              "      quickchartButtonEl.classList.remove('colab-df-spinner');\n",
              "      quickchartButtonEl.classList.add('colab-df-quickchart-complete');\n",
              "    }\n",
              "    (() => {\n",
              "      let quickchartButtonEl =\n",
              "        document.querySelector('#df-89be7a8a-ec7d-46b6-860a-c579a68a56b5 button');\n",
              "      quickchartButtonEl.style.display =\n",
              "        google.colab.kernel.accessAllowed ? 'block' : 'none';\n",
              "    })();\n",
              "  </script>\n",
              "</div>\n",
              "    </div>\n",
              "  </div>\n"
            ]
          },
          "metadata": {},
          "execution_count": 70
        }
      ],
      "source": [
        "text_t = pd.read_csv(\"/content/drive/MyDrive/Semantic_Data_Processing/archive_t/realdonaldtrump.csv\")\n",
        "text_t"
      ]
    },
    {
      "cell_type": "code",
      "source": [
        "# keeping only the text from tweets\n",
        "text_t = text_t[\"content\"].astype(str)\n",
        "text_t"
      ],
      "metadata": {
        "colab": {
          "base_uri": "https://localhost:8080/"
        },
        "id": "5jlfpyKZBSZ0",
        "outputId": "ebf0d815-cd8f-476d-833b-a5067291b332"
      },
      "execution_count": 71,
      "outputs": [
        {
          "output_type": "execute_result",
          "data": {
            "text/plain": [
              "0        Be sure to tune in and watch Donald Trump on L...\n",
              "1        Donald Trump will be appearing on The View tom...\n",
              "2        Donald Trump reads Top Ten Financial Tips on L...\n",
              "3        New Blog Post: Celebrity Apprentice Finale and...\n",
              "4        \"My persona will never be that of a wallflower...\n",
              "                               ...                        \n",
              "43347    Joe Biden was a TOTAL FAILURE in Government. H...\n",
              "43348    Will be interviewed on @ seanhannity tonight a...\n",
              "43349                           pic.twitter.com/3lm1spbU8X\n",
              "43350                           pic.twitter.com/vpCE5MadUz\n",
              "43351                           pic.twitter.com/VLlc0BHW41\n",
              "Name: content, Length: 43352, dtype: object"
            ]
          },
          "metadata": {},
          "execution_count": 71
        }
      ]
    },
    {
      "cell_type": "code",
      "source": [
        "# showing one tweet\n",
        "text_t[5]"
      ],
      "metadata": {
        "colab": {
          "base_uri": "https://localhost:8080/",
          "height": 36
        },
        "id": "6XlqSYSqCH6w",
        "outputId": "1306fa02-9274-421c-8494-be092be4a81c"
      },
      "execution_count": 72,
      "outputs": [
        {
          "output_type": "execute_result",
          "data": {
            "text/plain": [
              "'Miss USA Tara Conner will not be fired - \"I\\'ve always been a believer in second chances.\" says Donald Trump'"
            ],
            "application/vnd.google.colaboratory.intrinsic+json": {
              "type": "string"
            }
          },
          "metadata": {},
          "execution_count": 72
        }
      ]
    },
    {
      "cell_type": "code",
      "source": [
        "# join all the entries together\n",
        "text_t_combined = \" \".join(text_t)\n",
        "# replace \\n by spaces\n",
        "text_t_combined = text_t_combined.replace(\"\\n\", \" \")"
      ],
      "metadata": {
        "id": "XbOkUYeFCMyM"
      },
      "execution_count": 73,
      "outputs": []
    },
    {
      "cell_type": "code",
      "source": [
        "# print some characters from the text dataset\n",
        "text_t_combined[1500:3000]"
      ],
      "metadata": {
        "colab": {
          "base_uri": "https://localhost:8080/",
          "height": 146
        },
        "id": "2-9ECQXnCaZj",
        "outputId": "e51b2e8d-9318-4a86-858f-bf6debc69c75"
      },
      "execution_count": 74,
      "outputs": [
        {
          "output_type": "execute_result",
          "data": {
            "text/plain": [
              "'ays know you could be on the precipice of something great.\" --Donald J. Trump http://tinyurl.com/pqpfvm Read a great interview with Donald Trump that appeared in The New York Times Magazine: http://tinyurl.com/qsx4o6 \"Keep it fast, short and direct - whatever it is.\" --Donald J. Trump http://tinyurl.com/pqpfvm Don\\'t forget to enter the \"Think Like A Champion\" signed book and keychain contest: http://www.trumpthinklikeachampion.com/contest Did you know Donald Trump is on Facebook? http://www.facebook.com/DonaldTrump - Become a fan today! \"Your higher self is in direct opposition to your comfort zone.\" --Donald J. Trump http://tinyurl.com/pqpfvm Read an excerpt from Think Like A Champion by Donald J. Trump: http://bit.ly/11FHpR \"You have to know when to call it quits and when to keep moving forward.\" --Donald J. Trump http://www.trumpthinklikeachampion.com Check out Donald Trump\\'s new iGoogle Showcase page: http://bit.ly/DdD2A “If you don\\'t have problems, you\\'re pretending or you don\\'t run your own business.” –Donald J. Trump http://tinyurl.com/pqpfvm Last week to enter the \"Think Like A Champion\" signed book and keychain contest: http://www.trumpthinklikeachampion.com/contest/ Today is Donald Trump\\'s Birthday! Send him your B\\'day wishes here: http://www.facebook.com/DonaldTrump Thanks to all for your thoughtful birthday wishes – Donald Trump RE: FB Vanity URLs: SF Chronicle - \"David Beckham was one of the first, along with Britney Spears & Donald Trump.\" http://tinyurl.com/ln4'"
            ],
            "application/vnd.google.colaboratory.intrinsic+json": {
              "type": "string"
            }
          },
          "metadata": {},
          "execution_count": 74
        }
      ]
    },
    {
      "cell_type": "markdown",
      "source": [
        "Plotting the distribution of the most common words for Trump Tweets dataset."
      ],
      "metadata": {
        "id": "3tq1GBaKQe9u"
      }
    },
    {
      "cell_type": "code",
      "source": [
        "words = word_tokenize(text_t_combined)"
      ],
      "metadata": {
        "id": "eunC7_xyQeqc"
      },
      "execution_count": 75,
      "outputs": []
    },
    {
      "cell_type": "code",
      "source": [
        "# getting only the meaningful words\n",
        "meaningful_words = [\n",
        "  word for word in words if word.casefold() not in stop_words\n",
        "]"
      ],
      "metadata": {
        "id": "sH1ftNaPQ7zA"
      },
      "execution_count": 76,
      "outputs": []
    },
    {
      "cell_type": "code",
      "source": [
        "frequency_distribution = FreqDist(meaningful_words)\n",
        "# print the most common meaningful words\n",
        "frequency_distribution.most_common(20)"
      ],
      "metadata": {
        "colab": {
          "base_uri": "https://localhost:8080/"
        },
        "id": "57xc0kPfRHq5",
        "outputId": "d2c7bac8-0584-48d8-82e3-352b4f25ed77"
      },
      "execution_count": 77,
      "outputs": [
        {
          "output_type": "execute_result",
          "data": {
            "text/plain": [
              "[('@', 42088),\n",
              " ('.', 38269),\n",
              " (',', 30057),\n",
              " ('!', 27581),\n",
              " (':', 21786),\n",
              " ('``', 14094),\n",
              " (\"''\", 11260),\n",
              " ('realDonaldTrump', 8506),\n",
              " ('#', 7795),\n",
              " ('’', 5311),\n",
              " ('Trump', 4814),\n",
              " ('&', 4792),\n",
              " ('http', 4674),\n",
              " ('?', 4197),\n",
              " ('great', 3990),\n",
              " ('…', 3712),\n",
              " (\"'s\", 3636),\n",
              " ('”', 3259),\n",
              " ('“', 3257),\n",
              " ('-', 3022)]"
            ]
          },
          "metadata": {},
          "execution_count": 77
        }
      ]
    },
    {
      "cell_type": "markdown",
      "source": [
        "From the last output, it is necessary to filter out all characters that are not letters for a better output."
      ],
      "metadata": {
        "id": "xQXk9azvRxi1"
      }
    },
    {
      "cell_type": "code",
      "source": [
        "filtered_meaningful_words = [word for word in words if (word.isalpha()) and (word not in stop_words)]"
      ],
      "metadata": {
        "id": "HIfglb7WR5oR"
      },
      "execution_count": 78,
      "outputs": []
    },
    {
      "cell_type": "code",
      "source": [
        "frequency_distribution = FreqDist(filtered_meaningful_words)\n",
        "# print the most common meaningful words\n",
        "frequency_distribution.most_common(20)"
      ],
      "metadata": {
        "colab": {
          "base_uri": "https://localhost:8080/"
        },
        "id": "jXwslZWQSU6G",
        "outputId": "297429e2-e1c3-4f9e-fd2f-7f712ff67bef"
      },
      "execution_count": 79,
      "outputs": [
        {
          "output_type": "execute_result",
          "data": {
            "text/plain": [
              "[('I', 10506),\n",
              " ('realDonaldTrump', 8506),\n",
              " ('The', 4921),\n",
              " ('Trump', 4814),\n",
              " ('http', 4674),\n",
              " ('great', 3990),\n",
              " ('https', 2744),\n",
              " ('Thank', 2518),\n",
              " ('people', 2314),\n",
              " ('We', 2204),\n",
              " ('would', 1957),\n",
              " ('President', 1890),\n",
              " ('Great', 1882),\n",
              " ('Donald', 1748),\n",
              " ('Obama', 1701),\n",
              " ('Thanks', 1667),\n",
              " ('get', 1639),\n",
              " ('He', 1629),\n",
              " ('It', 1620),\n",
              " ('like', 1522)]"
            ]
          },
          "metadata": {},
          "execution_count": 79
        }
      ]
    },
    {
      "cell_type": "code",
      "source": [
        "# plot the results\n",
        "frequency_distribution.plot(20, cumulative=True)"
      ],
      "metadata": {
        "colab": {
          "base_uri": "https://localhost:8080/",
          "height": 573
        },
        "id": "eMKUI557Sv2-",
        "outputId": "6bdc63a4-d5fc-48ad-fb8a-01208836ec22"
      },
      "execution_count": 80,
      "outputs": [
        {
          "output_type": "display_data",
          "data": {
            "text/plain": [
              "<Figure size 640x480 with 1 Axes>"
            ],
            "image/png": "[encoded data removed]"
          },
          "metadata": {}
        },
        {
          "output_type": "execute_result",
          "data": {
            "text/plain": [
              "<Axes: xlabel='Samples', ylabel='Cumulative Counts'>"
            ]
          },
          "metadata": {},
          "execution_count": 80
        }
      ]
    },
    {
      "cell_type": "markdown",
      "source": [
        "Combining both texts together and using Markovify to generate new sentences"
      ],
      "metadata": {
        "id": "TXF6LEMhQgem"
      }
    },
    {
      "cell_type": "code",
      "source": [
        "# combine two texts together\n",
        "text_fin = text_combined + \" \" + text_t_combined"
      ],
      "metadata": {
        "id": "tm22BUfxCdkJ"
      },
      "execution_count": 81,
      "outputs": []
    },
    {
      "cell_type": "code",
      "source": [
        "# use markovify to generate the sentences\n",
        "generator_markovify_combined = markovify.Text(text_fin)"
      ],
      "metadata": {
        "id": "Jf6ykCDcCqXY"
      },
      "execution_count": 82,
      "outputs": []
    },
    {
      "cell_type": "code",
      "source": [
        "for i in range(12):\n",
        "    print(generator_markovify_combined.make_sentence(),  \"\\n\")"
      ],
      "metadata": {
        "colab": {
          "base_uri": "https://localhost:8080/"
        },
        "id": "6tHimeFYC4yC",
        "outputId": "8d216e1b-2b6e-462f-d130-6590171d9868"
      },
      "execution_count": 83,
      "outputs": [
        {
          "output_type": "stream",
          "name": "stdout",
          "text": [
            "More information about equal employment opportunities to impact the world we care about the status quo, work hard to play in building web applications using the POLARIS system. \n",
            "\n",
            "Hydraulic and pneumatic systems and fortifying our infrastructure. \n",
            "\n",
            "I will soon be sitting for prolonged periods of time, talking and listening.Typical work is generally required to drive. \n",
            "\n",
            "Provides direct patient care in general if a positive work environment and is proud to call JEB a liar, but the majority of your performance, then Everyday Health Group, a global company CORE JOB RESPONSIBILITIES: Load and unload delivery vehicles to meet goals. \n",
            "\n",
            "Resume is required prior to performing work Exception: when unsafe or will be expected to behave in a Lab setting with direct financial responsibility, ownership, and adaptability, work to be a good understanding of Kaseya's customer requirements and identifies industry best practices, frameworks, and contribute todiscussions and meetingsBuilding & Maintaining Relationships End to end delivery, and assists with the marketing team and are based on geography and full time staff receive proper training so they may only apply for a job, select your language preference from the place for you. \n",
            "\n",
            "2012 is the best in class training programs. \n",
            "\n",
            "Unbelievable support in multiple trades and requirements as appropriate prior to your ability to prioritize. \n",
            "\n",
            "Develops work plans for relocation. \n",
            "\n",
            "As a member of the time of intake.Responsible for maintaining a sanitary environment. \n",
            "\n",
            "Must be a good driver? \n",
            "\n",
            "It is just someone.... \n",
            "\n",
            "Internal Controls Advisor will visually inspect property, including corrective, preventative, routine, and cosmetic maintenance. \n",
            "\n"
          ]
        }
      ]
    },
    {
      "cell_type": "markdown",
      "source": [
        "To summarize, Markovify is a library that allows to generate sentences from different sources of text. One of its main advantages is that it does not require long training time. However, the quality of sentences can be low due to the algorithm, i.e., they, usually, do not have much meaning. Nevertheless, some sentences are generated in an interesting way. It is also possible to combine texts from totally different fields to see what sentences can be generated."
      ],
      "metadata": {
        "id": "Lc-n-hp_NAol"
      }
    }
  ],
  "metadata": {
    "kernelspec": {
      "display_name": "study",
      "language": "python",
      "name": "python3"
    },
    "language_info": {
      "codemirror_mode": {
        "name": "ipython",
        "version": 3
      },
      "file_extension": ".py",
      "mimetype": "text/x-python",
      "name": "python",
      "nbconvert_exporter": "python",
      "pygments_lexer": "ipython3",
      "version": "3.11.4"
    },
    "colab": {
      "provenance": []
    }
  },
  "nbformat": 4,
  "nbformat_minor": 0
}